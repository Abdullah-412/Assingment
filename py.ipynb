{
 "cells": [
  {
   "cell_type": "code",
   "execution_count": null,
   "id": "2814e91b",
   "metadata": {},
   "outputs": [
    {
     "name": "stdout",
     "output_type": "stream",
     "text": [
      "[15, 30, 45, 60, 75, 90]\n"
     ]
    }
   ],
   "source": [
    "#For loop\n",
    "#Create a list of all numbers between 1 and 100 that are divisible by both 3 and 5:\n",
    "divisible_by_3_and_5 = []\n",
    "for num in range(1, 101):\n",
    "    if num % 3 == 0 and num % 5 == 0:\n",
    "        divisible_by_3_and_5.append(num)\n",
    "\n",
    "print(divisible_by_3_and_5)"
   ]
  },
  {
   "cell_type": "code",
   "execution_count": 4,
   "id": "7a7abcbd",
   "metadata": {},
   "outputs": [
    {
     "name": "stdout",
     "output_type": "stream",
     "text": [
      "replace_all_the_spaces_in_this_sentence\n"
     ]
    }
   ],
   "source": [
    "#Write a loop that replaces all spaces in a string with underscores.\n",
    "input_string = \"replace all the spaces in this sentence\"\n",
    "output_string = \"\"\n",
    "\n",
    "for str in input_string:\n",
    "    if str == \" \":\n",
    "        output_string += \"_\"\n",
    "    else:\n",
    "        output_string += str\n",
    "\n",
    "print(output_string)"
   ]
  },
  {
   "cell_type": "code",
   "execution_count": 5,
   "id": "340d85cb",
   "metadata": {},
   "outputs": [
    {
     "name": "stdout",
     "output_type": "stream",
     "text": [
      "[4, 5]\n"
     ]
    }
   ],
   "source": [
    "#Check which elements are common in two lists\n",
    "\n",
    "list1 = [1, 2, 3, 4, 5]\n",
    "list2 = [4, 5, 6, 7, 8]\n",
    "common_elements = []\n",
    "\n",
    "for num in list1:\n",
    "    if num in list2:\n",
    "        common_elements.append(num)\n",
    "\n",
    "print(common_elements)"
   ]
  },
  {
   "cell_type": "code",
   "execution_count": 6,
   "id": "e438f8ad",
   "metadata": {},
   "outputs": [
    {
     "name": "stdout",
     "output_type": "stream",
     "text": [
      "[1, 2, 3, 4]\n",
      "[1, 2, 3]\n",
      "[1, 2]\n",
      "[1]\n",
      "[]\n"
     ]
    }
   ],
   "source": [
    "#While loop:\n",
    "\n",
    "#Keep removing elements from a list one by one and print the list each time, until it becomes empty\n",
    "\n",
    "my_list = [1, 2, 3, 4, 5]\n",
    "\n",
    "while my_list:\n",
    "    my_list.pop()\n",
    "    print(my_list)"
   ]
  },
  {
   "cell_type": "code",
   "execution_count": 11,
   "id": "d3e9d481",
   "metadata": {},
   "outputs": [
    {
     "name": "stdout",
     "output_type": "stream",
     "text": [
      "100\n",
      "50.0\n",
      "25.0\n",
      "12.5\n",
      "6.25\n",
      "3.125\n",
      "1.5625\n",
      "0.78125\n"
     ]
    }
   ],
   "source": [
    "#Start from a number and keep dividing it by 2 until it becomes less than 1. Print each value.\n",
    "\n",
    "num = 100\n",
    "\n",
    "while num >= 0.7:\n",
    "    print(num)\n",
    "    num /= 2"
   ]
  },
  {
   "cell_type": "code",
   "execution_count": 12,
   "id": "6db64994",
   "metadata": {},
   "outputs": [
    {
     "name": "stdout",
     "output_type": "stream",
     "text": [
      "Current total: 22\n",
      "Current total: 44\n",
      "Current total: 66\n",
      "Current total: 88\n",
      "Current total: 110\n"
     ]
    }
   ],
   "source": [
    "#Ask the user to enter numbers until the total sum crosses 100.\n",
    "\n",
    "total = 0\n",
    "\n",
    "while total <= 100:\n",
    "    number = int(input(\"Enter a number: \"))\n",
    "    total += number\n",
    "    print(f\"Current total: {total}\")"
   ]
  }
 ],
 "metadata": {
  "kernelspec": {
   "display_name": "Python 3",
   "language": "python",
   "name": "python3"
  },
  "language_info": {
   "codemirror_mode": {
    "name": "ipython",
    "version": 3
   },
   "file_extension": ".py",
   "mimetype": "text/x-python",
   "name": "python",
   "nbconvert_exporter": "python",
   "pygments_lexer": "ipython3",
   "version": "3.12.0"
  }
 },
 "nbformat": 4,
 "nbformat_minor": 5
}
